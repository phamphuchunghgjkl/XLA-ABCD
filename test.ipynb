{
 "cells": [
  {
   "cell_type": "code",
   "execution_count": 2,
   "id": "65565f4f",
   "metadata": {},
   "outputs": [
    {
     "name": "stdout",
     "output_type": "stream",
     "text": [
      "CV2: 4.10.0\n",
      "NumPy: 2.1.3\n",
      "imutils OK\n",
      "Pandas: 2.2.3\n"
     ]
    }
   ],
   "source": [
    "import cv2, numpy, imutils, pytesseract, pandas\n",
    "print(\"CV2:\", cv2.__version__)\n",
    "print(\"NumPy:\", numpy.__version__)\n",
    "print(\"imutils OK\")\n",
    "print(\"Pandas:\", pandas.__version__)\n",
    "pytesseract.pytesseract.tesseract_cmd = r\"C:\\Program Files\\Tesseract-OCR\\tesseract.exe\"\n",
    "#print(\"Tesseract:\", pytesseract.get_tesseract_version())\n"
   ]
  }
 ],
 "metadata": {
  "kernelspec": {
   "display_name": "base",
   "language": "python",
   "name": "python3"
  },
  "language_info": {
   "codemirror_mode": {
    "name": "ipython",
    "version": 3
   },
   "file_extension": ".py",
   "mimetype": "text/x-python",
   "name": "python",
   "nbconvert_exporter": "python",
   "pygments_lexer": "ipython3",
   "version": "3.13.5"
  }
 },
 "nbformat": 4,
 "nbformat_minor": 5
}
